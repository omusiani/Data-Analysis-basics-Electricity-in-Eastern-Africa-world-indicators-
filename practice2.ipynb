{
 "cells": [
  {
   "cell_type": "markdown",
   "metadata": {},
   "source": [
    "### Exploring the 'Indicators.csv' \n",
    "\n",
    "**source:** https://kaggle.com\n",
    "**Author**: Enock Agoi email:omusianieno@gmail.com\n",
    "**python 2.7.6**\n"
   ]
  },
  {
   "cell_type": "code",
   "execution_count": 1,
   "metadata": {},
   "outputs": [],
   "source": [
    "import pandas as pd, numpy as np\n",
    "import random\n",
    "import matplotlib.pyplot as plt\n",
    "import seaborn as sns"
   ]
  },
  {
   "cell_type": "markdown",
   "metadata": {},
   "source": [
    "Exploring :Data Visualization Using Matplotlib and seaborn"
   ]
  },
  {
   "cell_type": "code",
   "execution_count": 2,
   "metadata": {},
   "outputs": [
    {
     "data": {
      "text/plain": [
       "(5656458, 6)"
      ]
     },
     "execution_count": 2,
     "metadata": {},
     "output_type": "execute_result"
    }
   ],
   "source": [
    "#import the csv and create a pandas DataFrame\n",
    "data = pd.read_csv('Indicators.csv')\n",
    "data.shape"
   ]
  },
  {
   "cell_type": "code",
   "execution_count": 3,
   "metadata": {},
   "outputs": [
    {
     "data": {
      "text/html": [
       "<div>\n",
       "<style scoped>\n",
       "    .dataframe tbody tr th:only-of-type {\n",
       "        vertical-align: middle;\n",
       "    }\n",
       "\n",
       "    .dataframe tbody tr th {\n",
       "        vertical-align: top;\n",
       "    }\n",
       "\n",
       "    .dataframe thead th {\n",
       "        text-align: right;\n",
       "    }\n",
       "</style>\n",
       "<table border=\"1\" class=\"dataframe\">\n",
       "  <thead>\n",
       "    <tr style=\"text-align: right;\">\n",
       "      <th></th>\n",
       "      <th>CountryName</th>\n",
       "      <th>CountryCode</th>\n",
       "      <th>IndicatorName</th>\n",
       "      <th>IndicatorCode</th>\n",
       "      <th>Year</th>\n",
       "      <th>Value</th>\n",
       "    </tr>\n",
       "  </thead>\n",
       "  <tbody>\n",
       "    <tr>\n",
       "      <th>0</th>\n",
       "      <td>Arab World</td>\n",
       "      <td>ARB</td>\n",
       "      <td>Adolescent fertility rate (births per 1,000 wo...</td>\n",
       "      <td>SP.ADO.TFRT</td>\n",
       "      <td>1960</td>\n",
       "      <td>133.560907</td>\n",
       "    </tr>\n",
       "    <tr>\n",
       "      <th>1</th>\n",
       "      <td>Arab World</td>\n",
       "      <td>ARB</td>\n",
       "      <td>Age dependency ratio (% of working-age populat...</td>\n",
       "      <td>SP.POP.DPND</td>\n",
       "      <td>1960</td>\n",
       "      <td>87.797601</td>\n",
       "    </tr>\n",
       "    <tr>\n",
       "      <th>2</th>\n",
       "      <td>Arab World</td>\n",
       "      <td>ARB</td>\n",
       "      <td>Age dependency ratio, old (% of working-age po...</td>\n",
       "      <td>SP.POP.DPND.OL</td>\n",
       "      <td>1960</td>\n",
       "      <td>6.634579</td>\n",
       "    </tr>\n",
       "  </tbody>\n",
       "</table>\n",
       "</div>"
      ],
      "text/plain": [
       "  CountryName CountryCode                                      IndicatorName  \\\n",
       "0  Arab World         ARB  Adolescent fertility rate (births per 1,000 wo...   \n",
       "1  Arab World         ARB  Age dependency ratio (% of working-age populat...   \n",
       "2  Arab World         ARB  Age dependency ratio, old (% of working-age po...   \n",
       "\n",
       "    IndicatorCode  Year       Value  \n",
       "0     SP.ADO.TFRT  1960  133.560907  \n",
       "1     SP.POP.DPND  1960   87.797601  \n",
       "2  SP.POP.DPND.OL  1960    6.634579  "
      ]
     },
     "execution_count": 3,
     "metadata": {},
     "output_type": "execute_result"
    }
   ],
   "source": [
    "#lets have a look at our data\n",
    "data.head(3)"
   ]
  },
  {
   "cell_type": "code",
   "execution_count": 4,
   "metadata": {},
   "outputs": [],
   "source": [
    "#pick columns\n",
    "countries = data['CountryName'].unique().tolist()\n",
    "indicators = data['IndicatorName'].unique().tolist()\n",
    "#show all indicators\n",
    "#indicators\n",
    "#code = data['CountryCode'].unique().tolist()\n",
    "\n"
   ]
  },
  {
   "cell_type": "code",
   "execution_count": 5,
   "metadata": {},
   "outputs": [],
   "source": [
    "#filter 1\n",
    "yearsFilter = list(range(1981,2016))\n",
    "#Filter out the countries that belong to the EAC trading block \n",
    "#in Africa\n",
    "comesa = ['Kenya', 'Uganda', 'Tanzania','Rwanda',\n",
    "          'Burundi','Sudan', 'Ethiopia']\n",
    "\n",
    "\n",
    "#country filter - pick two countrieas randomly\n",
    "#contryFilter = random.sample(countries,3)"
   ]
  },
  {
   "cell_type": "code",
   "execution_count": 6,
   "metadata": {},
   "outputs": [
    {
     "data": {
      "text/html": [
       "<div>\n",
       "<style scoped>\n",
       "    .dataframe tbody tr th:only-of-type {\n",
       "        vertical-align: middle;\n",
       "    }\n",
       "\n",
       "    .dataframe tbody tr th {\n",
       "        vertical-align: top;\n",
       "    }\n",
       "\n",
       "    .dataframe thead th {\n",
       "        text-align: right;\n",
       "    }\n",
       "</style>\n",
       "<table border=\"1\" class=\"dataframe\">\n",
       "  <thead>\n",
       "    <tr style=\"text-align: right;\">\n",
       "      <th></th>\n",
       "      <th>CountryName</th>\n",
       "      <th>CountryCode</th>\n",
       "      <th>IndicatorName</th>\n",
       "      <th>IndicatorCode</th>\n",
       "      <th>Year</th>\n",
       "      <th>Value</th>\n",
       "    </tr>\n",
       "  </thead>\n",
       "  <tbody>\n",
       "    <tr>\n",
       "      <th>1125778</th>\n",
       "      <td>Ethiopia</td>\n",
       "      <td>ETH</td>\n",
       "      <td>Electricity production from coal sources (% of...</td>\n",
       "      <td>EG.ELC.COAL.ZS</td>\n",
       "      <td>1981</td>\n",
       "      <td>0.000000</td>\n",
       "    </tr>\n",
       "    <tr>\n",
       "      <th>1125779</th>\n",
       "      <td>Ethiopia</td>\n",
       "      <td>ETH</td>\n",
       "      <td>Electricity production from hydroelectric sour...</td>\n",
       "      <td>EG.ELC.HYRO.ZS</td>\n",
       "      <td>1981</td>\n",
       "      <td>70.319001</td>\n",
       "    </tr>\n",
       "    <tr>\n",
       "      <th>1125780</th>\n",
       "      <td>Ethiopia</td>\n",
       "      <td>ETH</td>\n",
       "      <td>Electricity production from natural gas source...</td>\n",
       "      <td>EG.ELC.NGAS.ZS</td>\n",
       "      <td>1981</td>\n",
       "      <td>0.000000</td>\n",
       "    </tr>\n",
       "    <tr>\n",
       "      <th>1125781</th>\n",
       "      <td>Ethiopia</td>\n",
       "      <td>ETH</td>\n",
       "      <td>Electricity production from nuclear sources (%...</td>\n",
       "      <td>EG.ELC.NUCL.ZS</td>\n",
       "      <td>1981</td>\n",
       "      <td>0.000000</td>\n",
       "    </tr>\n",
       "    <tr>\n",
       "      <th>1125782</th>\n",
       "      <td>Ethiopia</td>\n",
       "      <td>ETH</td>\n",
       "      <td>Electricity production from oil sources (% of ...</td>\n",
       "      <td>EG.ELC.PETR.ZS</td>\n",
       "      <td>1981</td>\n",
       "      <td>29.680999</td>\n",
       "    </tr>\n",
       "    <tr>\n",
       "      <th>1125783</th>\n",
       "      <td>Ethiopia</td>\n",
       "      <td>ETH</td>\n",
       "      <td>Electricity production from oil, gas and coal ...</td>\n",
       "      <td>EG.ELC.FOSL.ZS</td>\n",
       "      <td>1981</td>\n",
       "      <td>29.680999</td>\n",
       "    </tr>\n",
       "    <tr>\n",
       "      <th>1125784</th>\n",
       "      <td>Ethiopia</td>\n",
       "      <td>ETH</td>\n",
       "      <td>Electricity production from renewable sources,...</td>\n",
       "      <td>EG.ELC.RNWX.ZS</td>\n",
       "      <td>1981</td>\n",
       "      <td>0.000000</td>\n",
       "    </tr>\n",
       "    <tr>\n",
       "      <th>1125785</th>\n",
       "      <td>Ethiopia</td>\n",
       "      <td>ETH</td>\n",
       "      <td>Electricity production from renewable sources,...</td>\n",
       "      <td>EG.ELC.RNWX.KH</td>\n",
       "      <td>1981</td>\n",
       "      <td>0.000000</td>\n",
       "    </tr>\n",
       "    <tr>\n",
       "      <th>1139272</th>\n",
       "      <td>Kenya</td>\n",
       "      <td>KEN</td>\n",
       "      <td>Electricity production from coal sources (% of...</td>\n",
       "      <td>EG.ELC.COAL.ZS</td>\n",
       "      <td>1981</td>\n",
       "      <td>0.000000</td>\n",
       "    </tr>\n",
       "    <tr>\n",
       "      <th>1139273</th>\n",
       "      <td>Kenya</td>\n",
       "      <td>KEN</td>\n",
       "      <td>Electricity production from hydroelectric sour...</td>\n",
       "      <td>EG.ELC.HYRO.ZS</td>\n",
       "      <td>1981</td>\n",
       "      <td>74.736842</td>\n",
       "    </tr>\n",
       "  </tbody>\n",
       "</table>\n",
       "</div>"
      ],
      "text/plain": [
       "        CountryName CountryCode  \\\n",
       "1125778    Ethiopia         ETH   \n",
       "1125779    Ethiopia         ETH   \n",
       "1125780    Ethiopia         ETH   \n",
       "1125781    Ethiopia         ETH   \n",
       "1125782    Ethiopia         ETH   \n",
       "1125783    Ethiopia         ETH   \n",
       "1125784    Ethiopia         ETH   \n",
       "1125785    Ethiopia         ETH   \n",
       "1139272       Kenya         KEN   \n",
       "1139273       Kenya         KEN   \n",
       "\n",
       "                                             IndicatorName   IndicatorCode  \\\n",
       "1125778  Electricity production from coal sources (% of...  EG.ELC.COAL.ZS   \n",
       "1125779  Electricity production from hydroelectric sour...  EG.ELC.HYRO.ZS   \n",
       "1125780  Electricity production from natural gas source...  EG.ELC.NGAS.ZS   \n",
       "1125781  Electricity production from nuclear sources (%...  EG.ELC.NUCL.ZS   \n",
       "1125782  Electricity production from oil sources (% of ...  EG.ELC.PETR.ZS   \n",
       "1125783  Electricity production from oil, gas and coal ...  EG.ELC.FOSL.ZS   \n",
       "1125784  Electricity production from renewable sources,...  EG.ELC.RNWX.ZS   \n",
       "1125785  Electricity production from renewable sources,...  EG.ELC.RNWX.KH   \n",
       "1139272  Electricity production from coal sources (% of...  EG.ELC.COAL.ZS   \n",
       "1139273  Electricity production from hydroelectric sour...  EG.ELC.HYRO.ZS   \n",
       "\n",
       "         Year      Value  \n",
       "1125778  1981   0.000000  \n",
       "1125779  1981  70.319001  \n",
       "1125780  1981   0.000000  \n",
       "1125781  1981   0.000000  \n",
       "1125782  1981  29.680999  \n",
       "1125783  1981  29.680999  \n",
       "1125784  1981   0.000000  \n",
       "1125785  1981   0.000000  \n",
       "1139272  1981   0.000000  \n",
       "1139273  1981  74.736842  "
      ]
     },
     "execution_count": 6,
     "metadata": {},
     "output_type": "execute_result"
    }
   ],
   "source": [
    "#create a boolean filter\n",
    "#TRUE -->> all indicators that begin with electricity\n",
    "electricity = data['IndicatorName'].str.contains(\"Electricity\")\n",
    "#TRUE -> the years in question\n",
    "years = data['Year']>1980\n",
    "#TRUE if the country in the comesa\n",
    "countries = data['CountryName'].isin(comesa)\n",
    "#filter\n",
    "electricityData = data[electricity&years&countries]\n",
    "#show our data\n",
    "electricityData.head(10)"
   ]
  },
  {
   "cell_type": "markdown",
   "metadata": {},
   "source": [
    "we have extracted **electricity data** from these East african Countries.\n",
    "Exploring the data even more,"
   ]
  },
  {
   "cell_type": "code",
   "execution_count": 7,
   "metadata": {},
   "outputs": [
    {
     "data": {
      "text/plain": [
       "['Ethiopia', 'Kenya', 'Sudan', 'Tanzania']"
      ]
     },
     "execution_count": 7,
     "metadata": {},
     "output_type": "execute_result"
    }
   ],
   "source": [
    "#now that we nave obtained our electricity data we look at the countries captured\n",
    "country = electricityData['CountryName'].unique().tolist()\n",
    "#lets see them\n",
    "\n",
    "country\n"
   ]
  },
  {
   "cell_type": "markdown",
   "metadata": {},
   "source": [
    "we observe that only the four are captured in our dataset: Well just use these Four for our analysis"
   ]
  },
  {
   "cell_type": "code",
   "execution_count": 8,
   "metadata": {},
   "outputs": [
    {
     "data": {
      "text/plain": [
       "['Electricity production from coal sources (% of total)',\n",
       " 'Electricity production from hydroelectric sources (% of total)',\n",
       " 'Electricity production from natural gas sources (% of total)',\n",
       " 'Electricity production from nuclear sources (% of total)',\n",
       " 'Electricity production from oil sources (% of total)',\n",
       " 'Electricity production from oil, gas and coal sources (% of total)',\n",
       " 'Electricity production from renewable sources, excluding hydroelectric (% of total)',\n",
       " 'Electricity production from renewable sources, excluding hydroelectric (kWh)']"
      ]
     },
     "execution_count": 8,
     "metadata": {},
     "output_type": "execute_result"
    }
   ],
   "source": [
    "#lets now see our obtained indicators \n",
    "indicators = electricityData['IndicatorName'].unique().tolist()\n",
    "indicators"
   ]
  },
  {
   "cell_type": "markdown",
   "metadata": {},
   "source": [
    "### Research Question:Electrical Power in East Africa: Sources, Renewable Energy and Comparison to  the Rest of Africa"
   ]
  },
  {
   "cell_type": "code",
   "execution_count": 9,
   "metadata": {},
   "outputs": [
    {
     "data": {
      "text/html": [
       "<div>\n",
       "<style scoped>\n",
       "    .dataframe tbody tr th:only-of-type {\n",
       "        vertical-align: middle;\n",
       "    }\n",
       "\n",
       "    .dataframe tbody tr th {\n",
       "        vertical-align: top;\n",
       "    }\n",
       "\n",
       "    .dataframe thead th {\n",
       "        text-align: right;\n",
       "    }\n",
       "</style>\n",
       "<table border=\"1\" class=\"dataframe\">\n",
       "  <thead>\n",
       "    <tr style=\"text-align: right;\">\n",
       "      <th></th>\n",
       "      <th>CountryName</th>\n",
       "      <th>CountryCode</th>\n",
       "      <th>IndicatorName</th>\n",
       "      <th>IndicatorCode</th>\n",
       "      <th>Year</th>\n",
       "      <th>Value</th>\n",
       "    </tr>\n",
       "  </thead>\n",
       "  <tbody>\n",
       "    <tr>\n",
       "      <th>1125785</th>\n",
       "      <td>Ethiopia</td>\n",
       "      <td>ETH</td>\n",
       "      <td>Electricity production from renewable sources,...</td>\n",
       "      <td>EG.ELC.RNWX.KH</td>\n",
       "      <td>1981</td>\n",
       "      <td>0.0</td>\n",
       "    </tr>\n",
       "    <tr>\n",
       "      <th>1139279</th>\n",
       "      <td>Kenya</td>\n",
       "      <td>KEN</td>\n",
       "      <td>Electricity production from renewable sources,...</td>\n",
       "      <td>EG.ELC.RNWX.KH</td>\n",
       "      <td>1981</td>\n",
       "      <td>146000000.0</td>\n",
       "    </tr>\n",
       "    <tr>\n",
       "      <th>1166062</th>\n",
       "      <td>Sudan</td>\n",
       "      <td>SDN</td>\n",
       "      <td>Electricity production from renewable sources,...</td>\n",
       "      <td>EG.ELC.RNWX.KH</td>\n",
       "      <td>1981</td>\n",
       "      <td>0.0</td>\n",
       "    </tr>\n",
       "    <tr>\n",
       "      <th>1168747</th>\n",
       "      <td>Tanzania</td>\n",
       "      <td>TZA</td>\n",
       "      <td>Electricity production from renewable sources,...</td>\n",
       "      <td>EG.ELC.RNWX.KH</td>\n",
       "      <td>1981</td>\n",
       "      <td>0.0</td>\n",
       "    </tr>\n",
       "    <tr>\n",
       "      <th>1210392</th>\n",
       "      <td>Ethiopia</td>\n",
       "      <td>ETH</td>\n",
       "      <td>Electricity production from renewable sources,...</td>\n",
       "      <td>EG.ELC.RNWX.KH</td>\n",
       "      <td>1982</td>\n",
       "      <td>0.0</td>\n",
       "    </tr>\n",
       "  </tbody>\n",
       "</table>\n",
       "</div>"
      ],
      "text/plain": [
       "        CountryName CountryCode  \\\n",
       "1125785    Ethiopia         ETH   \n",
       "1139279       Kenya         KEN   \n",
       "1166062       Sudan         SDN   \n",
       "1168747    Tanzania         TZA   \n",
       "1210392    Ethiopia         ETH   \n",
       "\n",
       "                                             IndicatorName   IndicatorCode  \\\n",
       "1125785  Electricity production from renewable sources,...  EG.ELC.RNWX.KH   \n",
       "1139279  Electricity production from renewable sources,...  EG.ELC.RNWX.KH   \n",
       "1166062  Electricity production from renewable sources,...  EG.ELC.RNWX.KH   \n",
       "1168747  Electricity production from renewable sources,...  EG.ELC.RNWX.KH   \n",
       "1210392  Electricity production from renewable sources,...  EG.ELC.RNWX.KH   \n",
       "\n",
       "         Year        Value  \n",
       "1125785  1981          0.0  \n",
       "1139279  1981  146000000.0  \n",
       "1166062  1981          0.0  \n",
       "1168747  1981          0.0  \n",
       "1210392  1982          0.0  "
      ]
     },
     "execution_count": 9,
     "metadata": {},
     "output_type": "execute_result"
    }
   ],
   "source": [
    "## have a look at the history of renewable energy(w/o) hydro\n",
    "#True for the last indicator\n",
    "green = electricityData['IndicatorName'].str.contains(\"kWh\")\n",
    "#filter\n",
    "GreenElec = electricityData[green]\n",
    "#have a look\n",
    "GreenElec.head(5)\n"
   ]
  },
  {
   "cell_type": "code",
   "execution_count": 10,
   "metadata": {},
   "outputs": [
    {
     "data": {
      "text/plain": [
       "Text(0.5,1,u'Electricity from Renewable sources(Not Hydro)in East Africa')"
      ]
     },
     "execution_count": 10,
     "metadata": {},
     "output_type": "execute_result"
    },
    {
     "data": {
      "text/plain": [
       "<matplotlib.figure.Figure at 0xc16e650>"
      ]
     },
     "metadata": {},
     "output_type": "display_data"
    },
    {
     "data": {
      "image/png": "[encoded data removed]",
      "text/plain": [
       "<matplotlib.figure.Figure at 0xc16ec50>"
      ]
     },
     "metadata": {},
     "output_type": "display_data"
    }
   ],
   "source": [
    "##plot of the historical production of Electricity in the four countries(renewable sources only\n",
    "pivoted = pd.pivot_table(GreenElec, values='Value',columns='CountryName',index='Year')\n",
    "plt.figure(figsize=(16,16))\n",
    "pivoted.plot()\n",
    "\n",
    "plt.ylabel(\"Electricity produced in KWH\")\n",
    "plt.title(\"Electricity from Renewable sources(Not Hydro)in East Africa\")\n",
    "\n"
   ]
  },
  {
   "cell_type": "markdown",
   "metadata": {},
   "source": [
    "In matters **renewable energy** production, **Kenya** has led the way over the years.Other  countries lag way behind.\n",
    "\n",
    "Now lets look at the trends in perectages of the total energy\n"
   ]
  },
  {
   "cell_type": "code",
   "execution_count": 11,
   "metadata": {},
   "outputs": [
    {
     "data": {
      "text/html": [
       "<div>\n",
       "<style scoped>\n",
       "    .dataframe tbody tr th:only-of-type {\n",
       "        vertical-align: middle;\n",
       "    }\n",
       "\n",
       "    .dataframe tbody tr th {\n",
       "        vertical-align: top;\n",
       "    }\n",
       "\n",
       "    .dataframe thead th {\n",
       "        text-align: right;\n",
       "    }\n",
       "</style>\n",
       "<table border=\"1\" class=\"dataframe\">\n",
       "  <thead>\n",
       "    <tr style=\"text-align: right;\">\n",
       "      <th></th>\n",
       "      <th>CountryName</th>\n",
       "      <th>CountryCode</th>\n",
       "      <th>IndicatorName</th>\n",
       "      <th>IndicatorCode</th>\n",
       "      <th>Year</th>\n",
       "      <th>Value</th>\n",
       "    </tr>\n",
       "  </thead>\n",
       "  <tbody>\n",
       "    <tr>\n",
       "      <th>1125778</th>\n",
       "      <td>Ethiopia</td>\n",
       "      <td>ETH</td>\n",
       "      <td>Electricity production from coal sources (% of...</td>\n",
       "      <td>EG.ELC.COAL.ZS</td>\n",
       "      <td>1981</td>\n",
       "      <td>0.000000</td>\n",
       "    </tr>\n",
       "    <tr>\n",
       "      <th>1125779</th>\n",
       "      <td>Ethiopia</td>\n",
       "      <td>ETH</td>\n",
       "      <td>Electricity production from hydroelectric sour...</td>\n",
       "      <td>EG.ELC.HYRO.ZS</td>\n",
       "      <td>1981</td>\n",
       "      <td>70.319001</td>\n",
       "    </tr>\n",
       "    <tr>\n",
       "      <th>1125780</th>\n",
       "      <td>Ethiopia</td>\n",
       "      <td>ETH</td>\n",
       "      <td>Electricity production from natural gas source...</td>\n",
       "      <td>EG.ELC.NGAS.ZS</td>\n",
       "      <td>1981</td>\n",
       "      <td>0.000000</td>\n",
       "    </tr>\n",
       "    <tr>\n",
       "      <th>1125781</th>\n",
       "      <td>Ethiopia</td>\n",
       "      <td>ETH</td>\n",
       "      <td>Electricity production from nuclear sources (%...</td>\n",
       "      <td>EG.ELC.NUCL.ZS</td>\n",
       "      <td>1981</td>\n",
       "      <td>0.000000</td>\n",
       "    </tr>\n",
       "    <tr>\n",
       "      <th>1125782</th>\n",
       "      <td>Ethiopia</td>\n",
       "      <td>ETH</td>\n",
       "      <td>Electricity production from oil sources (% of ...</td>\n",
       "      <td>EG.ELC.PETR.ZS</td>\n",
       "      <td>1981</td>\n",
       "      <td>29.680999</td>\n",
       "    </tr>\n",
       "    <tr>\n",
       "      <th>1125783</th>\n",
       "      <td>Ethiopia</td>\n",
       "      <td>ETH</td>\n",
       "      <td>Electricity production from oil, gas and coal ...</td>\n",
       "      <td>EG.ELC.FOSL.ZS</td>\n",
       "      <td>1981</td>\n",
       "      <td>29.680999</td>\n",
       "    </tr>\n",
       "  </tbody>\n",
       "</table>\n",
       "</div>"
      ],
      "text/plain": [
       "        CountryName CountryCode  \\\n",
       "1125778    Ethiopia         ETH   \n",
       "1125779    Ethiopia         ETH   \n",
       "1125780    Ethiopia         ETH   \n",
       "1125781    Ethiopia         ETH   \n",
       "1125782    Ethiopia         ETH   \n",
       "1125783    Ethiopia         ETH   \n",
       "\n",
       "                                             IndicatorName   IndicatorCode  \\\n",
       "1125778  Electricity production from coal sources (% of...  EG.ELC.COAL.ZS   \n",
       "1125779  Electricity production from hydroelectric sour...  EG.ELC.HYRO.ZS   \n",
       "1125780  Electricity production from natural gas source...  EG.ELC.NGAS.ZS   \n",
       "1125781  Electricity production from nuclear sources (%...  EG.ELC.NUCL.ZS   \n",
       "1125782  Electricity production from oil sources (% of ...  EG.ELC.PETR.ZS   \n",
       "1125783  Electricity production from oil, gas and coal ...  EG.ELC.FOSL.ZS   \n",
       "\n",
       "         Year      Value  \n",
       "1125778  1981   0.000000  \n",
       "1125779  1981  70.319001  \n",
       "1125780  1981   0.000000  \n",
       "1125781  1981   0.000000  \n",
       "1125782  1981  29.680999  \n",
       "1125783  1981  29.680999  "
      ]
     },
     "execution_count": 11,
     "metadata": {},
     "output_type": "execute_result"
    }
   ],
   "source": [
    "#remove rows with the kwhs\n",
    "electricityData_ = electricityData[green==False]\n",
    "#have alook\n",
    "electricityData_.head(6)\n"
   ]
  },
  {
   "cell_type": "code",
   "execution_count": 12,
   "metadata": {},
   "outputs": [
    {
     "data": {
      "text/plain": [
       "Text(0.5,1,u'Trends in sources of Electrical energy in East Africa')"
      ]
     },
     "execution_count": 12,
     "metadata": {},
     "output_type": "execute_result"
    },
    {
     "data": {
      "image/png": "[encoded data removed]",
      "text/plain": [
       "<matplotlib.figure.Figure at 0xc7e8cd0>"
      ]
     },
     "metadata": {},
     "output_type": "display_data"
    }
   ],
   "source": [
    "#we'll use a box plot to show us the didpersion of production\n",
    "#over the years\n",
    "\n",
    "#i used seaborn for more apealing boxplots :)\n",
    "sns.set(style=\"ticks\")\n",
    "\n",
    "graph_= sns.boxplot(x=\"CountryName\",y=\"Value\",data=electricityData_,\n",
    "            hue=\"IndicatorName\", palette=\"PRGn\")\n",
    "#graph_.sns.despine(offset=10, trim=True)\n",
    "#graph_.legend(loc='best')\n",
    "\n",
    "\n",
    "##place legend outside plot\n",
    "plt.legend(bbox_to_anchor=(1.05,1), loc=2, borderaxespad=0)\n",
    "plt.title(\"Trends in sources of Electrical energy in East Africa\")"
   ]
  },
  {
   "cell_type": "markdown",
   "metadata": {},
   "source": [
    "In all the 4 countries over the years **Hydo Electric power** has been the main source of electricity with petroleum and other fossil fuels following closely"
   ]
  },
  {
   "cell_type": "markdown",
   "metadata": {},
   "source": [
    "Looking at the Individual countries over the years :the use of HEP as the Main Source of power\n",
    "is empahasised by the following box plots"
   ]
  },
  {
   "cell_type": "code",
   "execution_count": 13,
   "metadata": {},
   "outputs": [
    {
     "name": "stderr",
     "output_type": "stream",
     "text": [
      "c:\\python27\\lib\\site-packages\\seaborn\\axisgrid.py:703: UserWarning: Using the boxplot function without specifying `order` is likely to produce an incorrect plot.\n",
      "  warnings.warn(warning)\n"
     ]
    },
    {
     "data": {
      "text/plain": [
       "Text(0.5,0.98,u'Distribution of percentage makeup for each Energy source 1981- To date\\n')"
      ]
     },
     "execution_count": 13,
     "metadata": {},
     "output_type": "execute_result"
    },
    {
     "data": {
      "image/png": "[encoded data removed]",
      "text/plain": [
       "<matplotlib.figure.Figure at 0xc80b230>"
      ]
     },
     "metadata": {},
     "output_type": "display_data"
    }
   ],
   "source": [
    "##grid\n",
    "\n",
    "grid= sns.FacetGrid(data=electricityData_, col=\"CountryName\",\n",
    "                   sharey=False)\n",
    "\n",
    "grid.map(sns.boxplot,\"IndicatorCode\",\"Value\", palette=\"PRGn\")\n",
    "grid.set_xticklabels(rotation=30)\n",
    "grid.add_legend()\n",
    "#\n",
    "plt.suptitle(\"Distribution of percentage makeup for each Energy source 1981- To date\\n\")"
   ]
  },
  {
   "cell_type": "markdown",
   "metadata": {},
   "source": [
    "Sources like Coal, Natural gas, Nuclear remain largely Unexplored by these countries over the years. Also, only **Kenya** has explored the use of **Renewable Energy that is not HEP** so far"
   ]
  },
  {
   "cell_type": "markdown",
   "metadata": {},
   "source": [
    "But has the dependance on HEP in this countres increased or reduced over the years?:"
   ]
  },
  {
   "cell_type": "code",
   "execution_count": 14,
   "metadata": {},
   "outputs": [
    {
     "data": {
      "text/plain": [
       "<matplotlib.legend.Legend at 0x1cc09d50>"
      ]
     },
     "execution_count": 14,
     "metadata": {},
     "output_type": "execute_result"
    },
    {
     "data": {
      "text/plain": [
       "<matplotlib.figure.Figure at 0x1cc00cf0>"
      ]
     },
     "metadata": {},
     "output_type": "display_data"
    },
    {
     "data": {
      "image/png": "[encoded data removed]",
      "text/plain": [
       "<matplotlib.figure.Figure at 0x1cc09e10>"
      ]
     },
     "metadata": {},
     "output_type": "display_data"
    }
   ],
   "source": [
    "###Get the percentage of HEP in all the 4 countries over the Years\n",
    "hydro = electricityData['IndicatorName'].str.contains(\"hydroelectric sources\")\n",
    "hydros = electricityData[hydro]\n",
    "\n",
    "##create a pivot\n",
    "pivoted = pd.pivot_table(hydros, values='Value',columns='CountryName',index='Year')\n",
    "plt.figure(figsize=(10,10))\n",
    "pivoted.plot(grid=True, title=\"*% H.E.P OF TOTAL POWER BY YEAR*\")\n",
    "\n",
    "#place legend outside plot for clarity\n",
    "plt.legend(bbox_to_anchor=(1.05,1), loc=2, borderaxespad=0)"
   ]
  },
  {
   "cell_type": "markdown",
   "metadata": {},
   "source": [
    "Hydro has been used as the main source of power for most countries until the mid 1990s, with **Kenya and Tanzania** leading in diversification from **circa 2005**"
   ]
  },
  {
   "cell_type": "markdown",
   "metadata": {},
   "source": [
    "Now let us look at the contribution of each of the **sources** in Eastern Africa since 1981:"
   ]
  },
  {
   "cell_type": "code",
   "execution_count": 15,
   "metadata": {},
   "outputs": [
    {
     "data": {
      "text/html": [
       "<div>\n",
       "<style scoped>\n",
       "    .dataframe tbody tr th:only-of-type {\n",
       "        vertical-align: middle;\n",
       "    }\n",
       "\n",
       "    .dataframe tbody tr th {\n",
       "        vertical-align: top;\n",
       "    }\n",
       "\n",
       "    .dataframe thead th {\n",
       "        text-align: right;\n",
       "    }\n",
       "</style>\n",
       "<table border=\"1\" class=\"dataframe\">\n",
       "  <thead>\n",
       "    <tr style=\"text-align: right;\">\n",
       "      <th></th>\n",
       "      <th></th>\n",
       "      <th>Value</th>\n",
       "    </tr>\n",
       "    <tr>\n",
       "      <th>CountryName</th>\n",
       "      <th>IndicatorCode</th>\n",
       "      <th></th>\n",
       "    </tr>\n",
       "  </thead>\n",
       "  <tbody>\n",
       "    <tr>\n",
       "      <th rowspan=\"5\" valign=\"top\">Ethiopia</th>\n",
       "      <th>EG.ELC.COAL.ZS</th>\n",
       "      <td>0.000000</td>\n",
       "    </tr>\n",
       "    <tr>\n",
       "      <th>EG.ELC.FOSL.ZS</th>\n",
       "      <td>9.654002</td>\n",
       "    </tr>\n",
       "    <tr>\n",
       "      <th>EG.ELC.HYRO.ZS</th>\n",
       "      <td>90.181322</td>\n",
       "    </tr>\n",
       "    <tr>\n",
       "      <th>EG.ELC.NGAS.ZS</th>\n",
       "      <td>0.000000</td>\n",
       "    </tr>\n",
       "    <tr>\n",
       "      <th>EG.ELC.NUCL.ZS</th>\n",
       "      <td>0.000000</td>\n",
       "    </tr>\n",
       "  </tbody>\n",
       "</table>\n",
       "</div>"
      ],
      "text/plain": [
       "                                Value\n",
       "CountryName IndicatorCode            \n",
       "Ethiopia    EG.ELC.COAL.ZS   0.000000\n",
       "            EG.ELC.FOSL.ZS   9.654002\n",
       "            EG.ELC.HYRO.ZS  90.181322\n",
       "            EG.ELC.NGAS.ZS   0.000000\n",
       "            EG.ELC.NUCL.ZS   0.000000"
      ]
     },
     "execution_count": 15,
     "metadata": {},
     "output_type": "execute_result"
    }
   ],
   "source": [
    "#Mean percentegaes over the years\n",
    "key = ['CountryName','IndicatorCode']\n",
    "#using groupby\n",
    "means=electricityData_.groupby(key).mean()\n",
    "#remove Year column to have sensible data\n",
    "means_=means.drop(['Year'], axis=1)#.reset_index()\n",
    "\n",
    "#means_.to_csv('means.csv')\n",
    "means_.head(5)"
   ]
  },
  {
   "cell_type": "code",
   "execution_count": 16,
   "metadata": {
    "scrolled": false
   },
   "outputs": [
    {
     "data": {
      "image/png": "[encoded data removed]",
      "text/plain": [
       "<matplotlib.figure.Figure at 0x1cbe2a70>"
      ]
     },
     "metadata": {},
     "output_type": "display_data"
    }
   ],
   "source": [
    "#Draw pie charts\n",
    "#create a filter #for each country and reset the indices\n",
    "kenya = means_.loc['Kenya'].reset_index()\n",
    "ethiopia = means_.loc['Ethiopia'].reset_index()\n",
    "Sudan = means_.loc['Sudan'].reset_index()\n",
    "Tanzania=means_.loc['Tanzania'].reset_index()\n",
    "\n",
    "####initialize\n",
    "fig, axes = plt.subplots(2,2, figsize=(10,10))\n",
    "\n",
    "#plot\n",
    "#Ethiopia\n",
    "ax= axes[0,0]\n",
    "ax.pie(ethiopia.Value, labels=ethiopia.IndicatorCode, startangle=30)\n",
    "ax.set_title('Ethiopia Power')\n",
    "#Kenya\n",
    "ax= axes[0,1]\n",
    "ax.pie(kenya.Value, labels=kenya.IndicatorCode, startangle=30)\n",
    "ax.set_title('Kenya Power')\n",
    "#Sudan\n",
    "ax= axes[1,0]\n",
    "ax.pie(Sudan.Value, labels=Sudan.IndicatorCode, startangle=30)\n",
    "ax.set_title('Sudan Power')\n",
    "#Tanzania\n",
    "ax= axes[1,1]\n",
    "ax.pie(Tanzania.Value, labels=Tanzania.IndicatorCode, startangle=30)\n",
    "ax.set_title('Tanzania Power')\n",
    "\n",
    "####move legend & adjust space\n",
    "plt.legend(bbox_to_anchor=(1.5,1.5), loc=2, borderaxespad=0)\n",
    "fig.subplots_adjust(wspace=.5)\n"
   ]
  },
  {
   "cell_type": "markdown",
   "metadata": {},
   "source": [
    "These charts further emphasise our insight earlier, a huge chunk of Electricity has been hydro over the years"
   ]
  },
  {
   "cell_type": "markdown",
   "metadata": {},
   "source": [
    "Now let us see how Eastern Africa compares to the Rest of Africa in matters Electrical power."
   ]
  },
  {
   "cell_type": "code",
   "execution_count": 17,
   "metadata": {},
   "outputs": [],
   "source": [
    "#import necessary module\n",
    "import folium"
   ]
  },
  {
   "cell_type": "code",
   "execution_count": 18,
   "metadata": {},
   "outputs": [
    {
     "data": {
      "text/html": [
       "<div>\n",
       "<style scoped>\n",
       "    .dataframe tbody tr th:only-of-type {\n",
       "        vertical-align: middle;\n",
       "    }\n",
       "\n",
       "    .dataframe tbody tr th {\n",
       "        vertical-align: top;\n",
       "    }\n",
       "\n",
       "    .dataframe thead th {\n",
       "        text-align: right;\n",
       "    }\n",
       "</style>\n",
       "<table border=\"1\" class=\"dataframe\">\n",
       "  <thead>\n",
       "    <tr style=\"text-align: right;\">\n",
       "      <th></th>\n",
       "      <th>CountryName</th>\n",
       "      <th>CountryCode</th>\n",
       "      <th>IndicatorName</th>\n",
       "      <th>IndicatorCode</th>\n",
       "      <th>Year</th>\n",
       "      <th>Value</th>\n",
       "    </tr>\n",
       "  </thead>\n",
       "  <tbody>\n",
       "    <tr>\n",
       "      <th>4839134</th>\n",
       "      <td>Arab World</td>\n",
       "      <td>ARB</td>\n",
       "      <td>Electric power consumption (kWh per capita)</td>\n",
       "      <td>EG.USE.ELEC.KH.PC</td>\n",
       "      <td>2010</td>\n",
       "      <td>2.318678e+03</td>\n",
       "    </tr>\n",
       "    <tr>\n",
       "      <th>4839143</th>\n",
       "      <td>Arab World</td>\n",
       "      <td>ARB</td>\n",
       "      <td>Electricity production from renewable sources,...</td>\n",
       "      <td>EG.ELC.RNWX.KH</td>\n",
       "      <td>2010</td>\n",
       "      <td>2.514000e+09</td>\n",
       "    </tr>\n",
       "    <tr>\n",
       "      <th>4839682</th>\n",
       "      <td>Caribbean small states</td>\n",
       "      <td>CSS</td>\n",
       "      <td>Electricity production from renewable sources,...</td>\n",
       "      <td>EG.ELC.RNWX.KH</td>\n",
       "      <td>2010</td>\n",
       "      <td>1.800000e+08</td>\n",
       "    </tr>\n",
       "    <tr>\n",
       "      <th>4840234</th>\n",
       "      <td>Central Europe and the Baltics</td>\n",
       "      <td>CEB</td>\n",
       "      <td>Electric power consumption (kWh per capita)</td>\n",
       "      <td>EG.USE.ELEC.KH.PC</td>\n",
       "      <td>2010</td>\n",
       "      <td>4.012911e+03</td>\n",
       "    </tr>\n",
       "    <tr>\n",
       "      <th>4840243</th>\n",
       "      <td>Central Europe and the Baltics</td>\n",
       "      <td>CEB</td>\n",
       "      <td>Electricity production from renewable sources,...</td>\n",
       "      <td>EG.ELC.RNWX.KH</td>\n",
       "      <td>2010</td>\n",
       "      <td>1.765200e+10</td>\n",
       "    </tr>\n",
       "    <tr>\n",
       "      <th>4840898</th>\n",
       "      <td>East Asia &amp; Pacific (all income levels)</td>\n",
       "      <td>EAS</td>\n",
       "      <td>Electric power consumption (kWh per capita)</td>\n",
       "      <td>EG.USE.ELEC.KH.PC</td>\n",
       "      <td>2010</td>\n",
       "      <td>3.062994e+03</td>\n",
       "    </tr>\n",
       "  </tbody>\n",
       "</table>\n",
       "</div>"
      ],
      "text/plain": [
       "                                     CountryName CountryCode  \\\n",
       "4839134                               Arab World         ARB   \n",
       "4839143                               Arab World         ARB   \n",
       "4839682                   Caribbean small states         CSS   \n",
       "4840234           Central Europe and the Baltics         CEB   \n",
       "4840243           Central Europe and the Baltics         CEB   \n",
       "4840898  East Asia & Pacific (all income levels)         EAS   \n",
       "\n",
       "                                             IndicatorName      IndicatorCode  \\\n",
       "4839134        Electric power consumption (kWh per capita)  EG.USE.ELEC.KH.PC   \n",
       "4839143  Electricity production from renewable sources,...     EG.ELC.RNWX.KH   \n",
       "4839682  Electricity production from renewable sources,...     EG.ELC.RNWX.KH   \n",
       "4840234        Electric power consumption (kWh per capita)  EG.USE.ELEC.KH.PC   \n",
       "4840243  Electricity production from renewable sources,...     EG.ELC.RNWX.KH   \n",
       "4840898        Electric power consumption (kWh per capita)  EG.USE.ELEC.KH.PC   \n",
       "\n",
       "         Year         Value  \n",
       "4839134  2010  2.318678e+03  \n",
       "4839143  2010  2.514000e+09  \n",
       "4839682  2010  1.800000e+08  \n",
       "4840234  2010  4.012911e+03  \n",
       "4840243  2010  1.765200e+10  \n",
       "4840898  2010  3.062994e+03  "
      ]
     },
     "execution_count": 18,
     "metadata": {},
     "output_type": "execute_result"
    }
   ],
   "source": [
    "#extract data for renewable enerrgy in 2013\n",
    "##true for 2015\n",
    "year = data[\"Year\"]==2010\n",
    "#true->Renewable enery thats not hydro\n",
    "green = data[\"IndicatorName\"].str.contains(\"kWh\")\n",
    "greenElec = data[green&year]\n",
    "# a look at our data\n",
    "greenElec.head(6)"
   ]
  },
  {
   "cell_type": "code",
   "execution_count": 19,
   "metadata": {},
   "outputs": [
    {
     "data": {
      "text/html": [
       "<div>\n",
       "<style scoped>\n",
       "    .dataframe tbody tr th:only-of-type {\n",
       "        vertical-align: middle;\n",
       "    }\n",
       "\n",
       "    .dataframe tbody tr th {\n",
       "        vertical-align: top;\n",
       "    }\n",
       "\n",
       "    .dataframe thead th {\n",
       "        text-align: right;\n",
       "    }\n",
       "</style>\n",
       "<table border=\"1\" class=\"dataframe\">\n",
       "  <thead>\n",
       "    <tr style=\"text-align: right;\">\n",
       "      <th></th>\n",
       "      <th>CountryCode</th>\n",
       "      <th>Value</th>\n",
       "    </tr>\n",
       "  </thead>\n",
       "  <tbody>\n",
       "    <tr>\n",
       "      <th>4839134</th>\n",
       "      <td>ARB</td>\n",
       "      <td>2.318678e+03</td>\n",
       "    </tr>\n",
       "    <tr>\n",
       "      <th>4839143</th>\n",
       "      <td>ARB</td>\n",
       "      <td>2.514000e+09</td>\n",
       "    </tr>\n",
       "    <tr>\n",
       "      <th>4839682</th>\n",
       "      <td>CSS</td>\n",
       "      <td>1.800000e+08</td>\n",
       "    </tr>\n",
       "    <tr>\n",
       "      <th>4840234</th>\n",
       "      <td>CEB</td>\n",
       "      <td>4.012911e+03</td>\n",
       "    </tr>\n",
       "    <tr>\n",
       "      <th>4840243</th>\n",
       "      <td>CEB</td>\n",
       "      <td>1.765200e+10</td>\n",
       "    </tr>\n",
       "  </tbody>\n",
       "</table>\n",
       "</div>"
      ],
      "text/plain": [
       "        CountryCode         Value\n",
       "4839134         ARB  2.318678e+03\n",
       "4839143         ARB  2.514000e+09\n",
       "4839682         CSS  1.800000e+08\n",
       "4840234         CEB  4.012911e+03\n",
       "4840243         CEB  1.765200e+10"
      ]
     },
     "execution_count": 19,
     "metadata": {},
     "output_type": "execute_result"
    }
   ],
   "source": [
    "#filter out the data even further\n",
    "map_data = greenElec[['CountryCode','Value']]\n",
    "map_data.head()"
   ]
  },
  {
   "cell_type": "code",
   "execution_count": 20,
   "metadata": {},
   "outputs": [],
   "source": [
    "##set up our map\n",
    "map_ = folium.Map(location=[100,0],zoom_start=2)\n",
    "geo_string = ('world-countries.json')\n",
    "legend=greenElec.iloc[0]['IndicatorName']"
   ]
  },
  {
   "cell_type": "code",
   "execution_count": 21,
   "metadata": {},
   "outputs": [],
   "source": [
    "map_.choropleth(geo_data=geo_string,data=map_data,\n",
    "               columns=['CountryCode','Value'],\n",
    "               key_on='feature.id',\n",
    "               fill_color='YlGnBu',\n",
    "               fill_opacity=0.8, line_opacity=0.2,\n",
    "               legend_name=legend)"
   ]
  },
  {
   "cell_type": "code",
   "execution_count": 22,
   "metadata": {},
   "outputs": [],
   "source": [
    "#create plot\n",
    "map_.save('green_data.html')"
   ]
  },
  {
   "cell_type": "code",
   "execution_count": 23,
   "metadata": {},
   "outputs": [
    {
     "data": {
      "text/html": [
       "<iframe src=green_data.html width=700 height=450></iframe>"
      ],
      "text/plain": [
       "<IPython.core.display.HTML object>"
      ]
     },
     "execution_count": 23,
     "metadata": {},
     "output_type": "execute_result"
    }
   ],
   "source": [
    "##import the interactive html\n",
    "from IPython.display import HTML\n",
    "HTML('<iframe src=green_data.html width=700 height=450></iframe>')"
   ]
  },
  {
   "cell_type": "markdown",
   "metadata": {},
   "source": [
    "### Now let us look at dependancy on HEP"
   ]
  },
  {
   "cell_type": "code",
   "execution_count": 24,
   "metadata": {},
   "outputs": [
    {
     "data": {
      "text/html": [
       "<div>\n",
       "<style scoped>\n",
       "    .dataframe tbody tr th:only-of-type {\n",
       "        vertical-align: middle;\n",
       "    }\n",
       "\n",
       "    .dataframe tbody tr th {\n",
       "        vertical-align: top;\n",
       "    }\n",
       "\n",
       "    .dataframe thead th {\n",
       "        text-align: right;\n",
       "    }\n",
       "</style>\n",
       "<table border=\"1\" class=\"dataframe\">\n",
       "  <thead>\n",
       "    <tr style=\"text-align: right;\">\n",
       "      <th></th>\n",
       "      <th>CountryName</th>\n",
       "      <th>CountryCode</th>\n",
       "      <th>IndicatorName</th>\n",
       "      <th>IndicatorCode</th>\n",
       "      <th>Year</th>\n",
       "      <th>Value</th>\n",
       "    </tr>\n",
       "  </thead>\n",
       "  <tbody>\n",
       "    <tr>\n",
       "      <th>4839137</th>\n",
       "      <td>Arab World</td>\n",
       "      <td>ARB</td>\n",
       "      <td>Electricity production from hydroelectric sour...</td>\n",
       "      <td>EG.ELC.HYRO.ZS</td>\n",
       "      <td>2010</td>\n",
       "      <td>3.535976</td>\n",
       "    </tr>\n",
       "    <tr>\n",
       "      <th>4840237</th>\n",
       "      <td>Central Europe and the Baltics</td>\n",
       "      <td>CEB</td>\n",
       "      <td>Electricity production from hydroelectric sour...</td>\n",
       "      <td>EG.ELC.HYRO.ZS</td>\n",
       "      <td>2010</td>\n",
       "      <td>11.311874</td>\n",
       "    </tr>\n",
       "    <tr>\n",
       "      <th>4840901</th>\n",
       "      <td>East Asia &amp; Pacific (all income levels)</td>\n",
       "      <td>EAS</td>\n",
       "      <td>Electricity production from hydroelectric sour...</td>\n",
       "      <td>EG.ELC.HYRO.ZS</td>\n",
       "      <td>2010</td>\n",
       "      <td>12.982717</td>\n",
       "    </tr>\n",
       "    <tr>\n",
       "      <th>4841564</th>\n",
       "      <td>East Asia &amp; Pacific (developing only)</td>\n",
       "      <td>EAP</td>\n",
       "      <td>Electricity production from hydroelectric sour...</td>\n",
       "      <td>EG.ELC.HYRO.ZS</td>\n",
       "      <td>2010</td>\n",
       "      <td>16.321745</td>\n",
       "    </tr>\n",
       "    <tr>\n",
       "      <th>4842356</th>\n",
       "      <td>Euro area</td>\n",
       "      <td>EMU</td>\n",
       "      <td>Electricity production from hydroelectric sour...</td>\n",
       "      <td>EG.ELC.HYRO.ZS</td>\n",
       "      <td>2010</td>\n",
       "      <td>11.244588</td>\n",
       "    </tr>\n",
       "    <tr>\n",
       "      <th>4842987</th>\n",
       "      <td>Europe &amp; Central Asia (all income levels)</td>\n",
       "      <td>ECS</td>\n",
       "      <td>Electricity production from hydroelectric sour...</td>\n",
       "      <td>EG.ELC.HYRO.ZS</td>\n",
       "      <td>2010</td>\n",
       "      <td>16.310922</td>\n",
       "    </tr>\n",
       "  </tbody>\n",
       "</table>\n",
       "</div>"
      ],
      "text/plain": [
       "                                       CountryName CountryCode  \\\n",
       "4839137                                 Arab World         ARB   \n",
       "4840237             Central Europe and the Baltics         CEB   \n",
       "4840901    East Asia & Pacific (all income levels)         EAS   \n",
       "4841564      East Asia & Pacific (developing only)         EAP   \n",
       "4842356                                  Euro area         EMU   \n",
       "4842987  Europe & Central Asia (all income levels)         ECS   \n",
       "\n",
       "                                             IndicatorName   IndicatorCode  \\\n",
       "4839137  Electricity production from hydroelectric sour...  EG.ELC.HYRO.ZS   \n",
       "4840237  Electricity production from hydroelectric sour...  EG.ELC.HYRO.ZS   \n",
       "4840901  Electricity production from hydroelectric sour...  EG.ELC.HYRO.ZS   \n",
       "4841564  Electricity production from hydroelectric sour...  EG.ELC.HYRO.ZS   \n",
       "4842356  Electricity production from hydroelectric sour...  EG.ELC.HYRO.ZS   \n",
       "4842987  Electricity production from hydroelectric sour...  EG.ELC.HYRO.ZS   \n",
       "\n",
       "         Year      Value  \n",
       "4839137  2010   3.535976  \n",
       "4840237  2010  11.311874  \n",
       "4840901  2010  12.982717  \n",
       "4841564  2010  16.321745  \n",
       "4842356  2010  11.244588  \n",
       "4842987  2010  16.310922  "
      ]
     },
     "execution_count": 24,
     "metadata": {},
     "output_type": "execute_result"
    }
   ],
   "source": [
    "#pull data for %in hydros\n",
    "hydro = data['IndicatorName'].str.contains(\"hydroelectric sources\")\n",
    "\n",
    "year = data[\"Year\"]==2010\n",
    "\n",
    "hydroElec = data[hydro&year]\n",
    "# a look at our data\n",
    "hydroElec.head(6)"
   ]
  },
  {
   "cell_type": "code",
   "execution_count": 25,
   "metadata": {},
   "outputs": [],
   "source": [
    "#set up our map\n",
    "legend1=hydroElec.iloc[0]['IndicatorName']\n",
    "map1 = folium.Map(location=[100,0],zoom_start=2)"
   ]
  },
  {
   "cell_type": "code",
   "execution_count": 26,
   "metadata": {},
   "outputs": [],
   "source": [
    "map1.choropleth(geo_data=geo_string,data=hydroElec,\n",
    "               columns=['CountryCode','Value'],\n",
    "               key_on='feature.id',\n",
    "               fill_color='YlGnBu',\n",
    "               fill_opacity=0.8, line_opacity=0.8)"
   ]
  },
  {
   "cell_type": "code",
   "execution_count": 28,
   "metadata": {},
   "outputs": [],
   "source": [
    "#create plot\n",
    "map1.save('hydro_data1.html')"
   ]
  },
  {
   "cell_type": "code",
   "execution_count": 29,
   "metadata": {},
   "outputs": [
    {
     "data": {
      "text/html": [
       "<iframe src=hydro_data.html width=700 height=450></iframe>"
      ],
      "text/plain": [
       "<IPython.core.display.HTML object>"
      ]
     },
     "execution_count": 29,
     "metadata": {},
     "output_type": "execute_result"
    }
   ],
   "source": [
    "#show our map\n",
    "HTML('<iframe src=hydro_data.html width=700 height=450></iframe>')"
   ]
  },
  {
   "cell_type": "markdown",
   "metadata": {},
   "source": [
    "Evidently, the dependance on HEP in eastern Africa is high. Development of 'green' energy was still a long way to go as at 2011"
   ]
  },
  {
   "cell_type": "code",
   "execution_count": null,
   "metadata": {},
   "outputs": [],
   "source": []
  },
  {
   "cell_type": "code",
   "execution_count": null,
   "metadata": {},
   "outputs": [],
   "source": []
  }
 ],
 "metadata": {
  "kernelspec": {
   "display_name": "Python 2",
   "language": "python",
   "name": "python2"
  },
  "language_info": {
   "codemirror_mode": {
    "name": "ipython",
    "version": 2
   },
   "file_extension": ".py",
   "mimetype": "text/x-python",
   "name": "python",
   "nbconvert_exporter": "python",
   "pygments_lexer": "ipython2",
   "version": "2.7.12"
  }
 },
 "nbformat": 4,
 "nbformat_minor": 2
}
